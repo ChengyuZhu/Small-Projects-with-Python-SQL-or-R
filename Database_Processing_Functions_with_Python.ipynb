{
  "nbformat": 4,
  "nbformat_minor": 0,
  "metadata": {
    "colab": {
      "name": "Database Processing Functions with Python.ipynb",
      "provenance": [],
      "authorship_tag": "ABX9TyPC6bDYhLlIeVwooDiBQRKn",
      "include_colab_link": true
    },
    "kernelspec": {
      "name": "python3",
      "display_name": "Python 3"
    }
  },
  "cells": [
    {
      "cell_type": "markdown",
      "metadata": {
        "id": "view-in-github",
        "colab_type": "text"
      },
      "source": [
        "<a href=\"https://colab.research.google.com/github/ChengyuZhu/Small-Projects-with-Python-SQL-or-R/blob/master/Database_Processing_Functions_with_Python.ipynb\" target=\"_parent\"><img src=\"https://colab.research.google.com/assets/colab-badge.svg\" alt=\"Open In Colab\"/></a>"
      ]
    },
    {
      "cell_type": "code",
      "metadata": {
        "id": "WC4bhG9QgF7t",
        "colab_type": "code",
        "colab": {}
      },
      "source": [
        "#Use google colab to build some functions\n",
        "\n",
        "import pandas as pd\n",
        "\n",
        "class Queue:\n",
        "  def __init__(self, input):\n",
        "    self.df = input\n",
        "  \n",
        "  #Function 1 Insert\n",
        "  def insert(self, ID, Name, Gender, Profession, Specialty, HighestDegree, Exp_yrs):\n",
        "    #Insert the line\n",
        "    insert_row = [ID, Name, Gender, Profession, Specialty, HighestDegree, Exp_yrs]\n",
        "    self.df.loc[self.df.index.max()+1] = insert_row\n",
        "    return self.df\n",
        "\n",
        "  #Function 2 Pop\n",
        "  def pop(self):\n",
        "    #Exit the served line\n",
        "    if self.df.empty == False:\n",
        "      data_pop = self.df.iloc[0]\n",
        "      self.df.drop(self.df.index[0], inplace = True)\n",
        "      self.df.reset_index(drop = True, inplace = True)\n",
        "    return data_pop\n",
        "\n",
        "  #Function 3 Retrieve\n",
        "  def retrieve(self, name):\n",
        "    #retrive the line\n",
        "    if name in self.df.Name.values:\n",
        "      index_retrieve = self.df[self.df['Name'] == name].index\n",
        "      data = self.df.iloc[index_retrieve]\n",
        "      return data\n",
        "    else:\n",
        "      return print('not found')\n",
        "\n",
        "  #Function 4 Check_length\n",
        "  def check_length(self):\n",
        "    #check the size of the line\n",
        "    size = len(self.df)\n",
        "    return size\n",
        "\n",
        "  #Function 5 Check_experience\n",
        "  def check_experience(self, exp_input):\n",
        "    #check individuals' experience and return corresponding lines\n",
        "    return self.df.loc[self.df['Exp. in Years'] >= exp_input]\n",
        "\n",
        "  #Function 6 Sort \n",
        "  def sort(self):\n",
        "    #sort the given profile by the “exp. in years” in a  descending order\n",
        "    df_sort = self.df.sort_values(by= 'Exp. in Years', ascending = False)\n",
        "    df_sort = df_sort.reset_index(drop = True)\n",
        "    return df_sort"
      ],
      "execution_count": 1,
      "outputs": []
    },
    {
      "cell_type": "code",
      "metadata": {
        "id": "RAGr8lEbgNFP",
        "colab_type": "code",
        "colab": {
          "base_uri": "https://localhost:8080/",
          "height": 269
        },
        "outputId": "c7aaefe4-e368-48a5-9e89-b274df522a44"
      },
      "source": [
        "#Import data to examine the functions\n",
        "df1 = {'ID': [1,2,3,4,5,6,7,8,9,10,11,12],\n",
        "      'Name': ['William Moore', 'Mary Kean', 'Harris Kidman', 'Olivia Yau', 'George Clark', 'Freddie Turner', 'Logan Hill', 'Thomas Watson', 'Janice Stone', 'Lucas Rice', 'Ethan Brooks' ,'Eli Wells'],\n",
        "      'Gender':['M' ,'F', 'M' ,'F', 'M', 'M', 'M', 'M', 'F',' M', 'M' ,'F'],\n",
        "      'Profession':['Teacher', 'Engineer', 'Engineer', 'Banker', 'Lawyer' ,'Geologist', 'Accountant', 'Nurses' ,'Chef','Social Worker', 'Pharmacist', 'Architect'],\n",
        "      'Specialty':['Math', 'Software Engineering', 'Mechanic Engineering','Retail Banking','Business Law','Volcanology','Tax','Cardiac','European Modern Fusion','Clinical','Drug Information', 'Interior Design'],\n",
        "      'Highest Degree':['Bachelor', 'Master','Bachelor','Bachelor','Master','Doctor','Master','Bachelor','Bachelor','Bachelor','Master','Bachelor'],\n",
        "      'Exp. in Years':[2,3,5,2,3,10,3,3,10,3,1,3]}\n",
        "Input_ = pd.DataFrame(df1)\n",
        "print(Input_)"
      ],
      "execution_count": 2,
      "outputs": [
        {
          "output_type": "stream",
          "text": [
            "    ID            Name  ... Highest Degree Exp. in Years\n",
            "0    1   William Moore  ...       Bachelor             2\n",
            "1    2       Mary Kean  ...         Master             3\n",
            "2    3   Harris Kidman  ...       Bachelor             5\n",
            "3    4      Olivia Yau  ...       Bachelor             2\n",
            "4    5    George Clark  ...         Master             3\n",
            "5    6  Freddie Turner  ...         Doctor            10\n",
            "6    7      Logan Hill  ...         Master             3\n",
            "7    8   Thomas Watson  ...       Bachelor             3\n",
            "8    9    Janice Stone  ...       Bachelor            10\n",
            "9   10      Lucas Rice  ...       Bachelor             3\n",
            "10  11    Ethan Brooks  ...         Master             1\n",
            "11  12       Eli Wells  ...       Bachelor             3\n",
            "\n",
            "[12 rows x 7 columns]\n"
          ],
          "name": "stdout"
        }
      ]
    },
    {
      "cell_type": "code",
      "metadata": {
        "id": "yCXCebUFgQO3",
        "colab_type": "code",
        "colab": {
          "base_uri": "https://localhost:8080/",
          "height": 823
        },
        "outputId": "145fa2a6-9bf1-414f-bc1d-6ad5ef33be22"
      },
      "source": [
        "#Initialize the Queue function\n",
        "Queue_df = Queue(Input_)\n",
        "\n",
        "#Test Functions\n",
        "print(Queue_df.insert(13, 'CZ','M','Student','MBAN','Master', 1))\n",
        "print(Queue_df.pop())\n",
        "print(Queue_df.check_length())\n",
        "print(Queue_df.retrieve('CZ'))\n",
        "print(Queue_df.check_experience(5))\n",
        "print(Queue_df.sort())"
      ],
      "execution_count": 3,
      "outputs": [
        {
          "output_type": "stream",
          "text": [
            "    ID            Name  ... Highest Degree Exp. in Years\n",
            "0    1   William Moore  ...       Bachelor             2\n",
            "1    2       Mary Kean  ...         Master             3\n",
            "2    3   Harris Kidman  ...       Bachelor             5\n",
            "3    4      Olivia Yau  ...       Bachelor             2\n",
            "4    5    George Clark  ...         Master             3\n",
            "5    6  Freddie Turner  ...         Doctor            10\n",
            "6    7      Logan Hill  ...         Master             3\n",
            "7    8   Thomas Watson  ...       Bachelor             3\n",
            "8    9    Janice Stone  ...       Bachelor            10\n",
            "9   10      Lucas Rice  ...       Bachelor             3\n",
            "10  11    Ethan Brooks  ...         Master             1\n",
            "11  12       Eli Wells  ...       Bachelor             3\n",
            "12  13              CZ  ...         Master             1\n",
            "\n",
            "[13 rows x 7 columns]\n",
            "ID                            1\n",
            "Name              William Moore\n",
            "Gender                        M\n",
            "Profession              Teacher\n",
            "Specialty                  Math\n",
            "Highest Degree         Bachelor\n",
            "Exp. in Years                 2\n",
            "Name: 0, dtype: object\n",
            "12\n",
            "    ID Name Gender Profession Specialty Highest Degree  Exp. in Years\n",
            "11  13   CZ      M    Student      MBAN         Master              1\n",
            "   ID            Name  ... Highest Degree Exp. in Years\n",
            "1   3   Harris Kidman  ...       Bachelor             5\n",
            "4   6  Freddie Turner  ...         Doctor            10\n",
            "7   9    Janice Stone  ...       Bachelor            10\n",
            "\n",
            "[3 rows x 7 columns]\n",
            "    ID            Name  ... Highest Degree Exp. in Years\n",
            "0    6  Freddie Turner  ...         Doctor            10\n",
            "1    9    Janice Stone  ...       Bachelor            10\n",
            "2    3   Harris Kidman  ...       Bachelor             5\n",
            "3    2       Mary Kean  ...         Master             3\n",
            "4    5    George Clark  ...         Master             3\n",
            "5    7      Logan Hill  ...         Master             3\n",
            "6    8   Thomas Watson  ...       Bachelor             3\n",
            "7   10      Lucas Rice  ...       Bachelor             3\n",
            "8   12       Eli Wells  ...       Bachelor             3\n",
            "9    4      Olivia Yau  ...       Bachelor             2\n",
            "10  11    Ethan Brooks  ...         Master             1\n",
            "11  13              CZ  ...         Master             1\n",
            "\n",
            "[12 rows x 7 columns]\n"
          ],
          "name": "stdout"
        }
      ]
    }
  ]
}