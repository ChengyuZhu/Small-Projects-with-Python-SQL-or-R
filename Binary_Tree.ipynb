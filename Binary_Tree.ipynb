{
  "nbformat": 4,
  "nbformat_minor": 0,
  "metadata": {
    "colab": {
      "name": "Binary Tree.ipynb",
      "provenance": [],
      "authorship_tag": "ABX9TyMg1y3H6AbRvJ78h9VugbYO"
    },
    "kernelspec": {
      "name": "python3",
      "display_name": "Python 3"
    }
  },
  "cells": [
    {
      "cell_type": "code",
      "metadata": {
        "id": "BKWseNJKfGtQ",
        "colab_type": "code",
        "colab": {
          "base_uri": "https://localhost:8080/",
          "height": 84
        },
        "outputId": "dc7d5075-034d-493f-ae01-70ffdc77af91"
      },
      "source": [
        "# Build binary tree\n",
        "!pip install binarytree\n",
        "from binarytree import Node\n",
        "import numpy as np\n",
        "def Binary_tree(arr, root, i):\n",
        "  if i<len(arr):\n",
        "    #create base\n",
        "    root = Node(arr[i])\n",
        "\n",
        "    #insert left children\n",
        "    root.left = Binary_tree(arr, root.left, 2*i+1)\n",
        "    \n",
        "    #insert right children\n",
        "    root.right = Binary_tree(arr, root.right, 2*i+2)\n",
        "  return root"
      ],
      "execution_count": 1,
      "outputs": [
        {
          "output_type": "stream",
          "text": [
            "Collecting binarytree\n",
            "  Downloading https://files.pythonhosted.org/packages/80/cf/09e363df1fbdfbf1413f1c737a7da8ce22559456b3ac520ba3008fef2996/binarytree-5.1.0-py2.py3-none-any.whl\n",
            "Installing collected packages: binarytree\n",
            "Successfully installed binarytree-5.1.0\n"
          ],
          "name": "stdout"
        }
      ]
    },
    {
      "cell_type": "code",
      "metadata": {
        "id": "YZNF9qLJfyKG",
        "colab_type": "code",
        "colab": {
          "base_uri": "https://localhost:8080/",
          "height": 134
        },
        "outputId": "2b45cb5c-4fac-4c9d-cab5-425cdcfc75d7"
      },
      "source": [
        "arr = np.array([1,2,3,4,5,9,10])\n",
        "root = Binary_tree(arr, None, 0)\n",
        "print(root)"
      ],
      "execution_count": 2,
      "outputs": [
        {
          "output_type": "stream",
          "text": [
            "\n",
            "    __1__\n",
            "   /     \\\n",
            "  2       3\n",
            " / \\     / \\\n",
            "4   5   9   10\n",
            "\n"
          ],
          "name": "stdout"
        }
      ]
    }
  ]
}